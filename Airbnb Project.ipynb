{
    "cells": [
        {
            "cell_type": "markdown",
            "metadata": {
                "collapsed": true
            },
            "source": "### Airbnb Analysis Project"
        },
        {
            "cell_type": "markdown",
            "metadata": {},
            "source": "This project focues on discover valuable business insights using Airbnb LA data. I will explore popular room types, most expensive room types and highest scores room types. The business insights are for both room owners and customers to improve experience."
        },
        {
            "cell_type": "markdown",
            "metadata": {},
            "source": "Question: What are the five most popular verification types of hosts? For each type of the top five verifications, how many percent of hosts verify that type?\nQuestion: Airbnb has invested much to encourage consumers to write reviews, does it work?\nQuestion: Airbnb wants to figure out consumers' preference to different types of rooms and invest more, so which type of room should it invest?\nQuestion: Housing price varies a lot after 2008, and airbnb wants to improve its pricing strategy in the next year. So, try to figure out the trend to help the decision-making.\nQuestion:Will superhost title and rating influence the number of reviews?\nQuestion:Compare prices of different types of rooms. Is there any suggestion for pricing?\n"
        },
        {
            "cell_type": "markdown",
            "metadata": {},
            "source": "We use the most recent datasets containing listing and reviews in Los Angeles from insidearibnb.com. (September,2019,detailed data)"
        },
        {
            "cell_type": "code",
            "execution_count": null,
            "metadata": {},
            "outputs": [],
            "source": ""
        }
    ],
    "metadata": {
        "kernelspec": {
            "display_name": "Python 3.6",
            "language": "python",
            "name": "python3"
        },
        "language_info": {
            "codemirror_mode": {
                "name": "ipython",
                "version": 3
            },
            "file_extension": ".py",
            "mimetype": "text/x-python",
            "name": "python",
            "nbconvert_exporter": "python",
            "pygments_lexer": "ipython3",
            "version": "3.6.9"
        }
    },
    "nbformat": 4,
    "nbformat_minor": 1
}